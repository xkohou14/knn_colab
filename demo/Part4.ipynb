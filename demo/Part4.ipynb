{
 "cells": [
  {
   "cell_type": "code",
   "execution_count": 4,
   "metadata": {},
   "outputs": [],
   "source": [
    "# Imports\n",
    "import pathlib\n",
    "\n",
    "import numpy as np\n",
    "import torch\n",
    "from skimage.io import imread\n",
    "from skimage.transform import resize\n",
    "\n",
    "from inference import predict\n",
    "from transformations import normalize_01, re_normalize\n",
    "from unet import UNet\n",
    "\n",
    "# root directory\n",
    "root = pathlib.Path.cwd() / 'Carvana' / 'Test'\n",
    "def get_filenames_of_path(path: pathlib.Path, ext: str = '*'):\n",
    "    \"\"\"Returns a list of files in a directory/path. Uses pathlib.\"\"\"\n",
    "    filenames = [file for file in path.glob(ext) if file.is_file()]\n",
    "    return filenames\n",
    "\n",
    "# input and target files\n",
    "images_names = get_filenames_of_path(root / 'Input')\n",
    "targets_names = get_filenames_of_path(root / 'Target')\n",
    "\n",
    "# read images and store them in memory\n",
    "images = [imread(img_name) for img_name in images_names]\n",
    "targets = [imread(tar_name) for tar_name in targets_names]\n",
    "\n",
    "# Resize images and targets\n",
    "images_res = [resize(img, (128, 128, 3)) for img in images]\n",
    "resize_kwargs = {'order': 0, 'anti_aliasing': False, 'preserve_range': True}\n",
    "targets_res = [resize(tar, (128, 128), **resize_kwargs) for tar in targets]"
   ]
  },
  {
   "cell_type": "code",
   "execution_count": 5,
   "metadata": {},
   "outputs": [
    {
     "data": {
      "text/plain": "<All keys matched successfully>"
     },
     "execution_count": 5,
     "metadata": {},
     "output_type": "execute_result"
    }
   ],
   "source": [
    "# device\n",
    "# if torch.cuda.is_available():\n",
    "#     device = torch.device('cuda')\n",
    "# else:\n",
    "\n",
    "device = torch.device('cpu')\n",
    "\n",
    "# model\n",
    "model = UNet(in_channels=3,\n",
    "             out_channels=2,\n",
    "             n_blocks=4,\n",
    "             start_filters=32,\n",
    "             activation='relu',\n",
    "             normalization='batch',\n",
    "             conv_mode='same',\n",
    "             dim=2).to(device)\n",
    "\n",
    "\n",
    "model_name = 'carvana_model.pt'\n",
    "model_weights = torch.load(pathlib.Path.cwd() / model_name, map_location=torch.device('cpu'))\n",
    "\n",
    "model.load_state_dict(model_weights)"
   ]
  },
  {
   "cell_type": "code",
   "execution_count": 6,
   "metadata": {
    "pycharm": {
     "name": "#%%\n"
    }
   },
   "outputs": [],
   "source": [
    "# preprocess function\n",
    "def preprocess(img: np.ndarray):\n",
    "    img = np.moveaxis(img, -1, 0)  # from [H, W, C] to [C, H, W]\n",
    "    img = normalize_01(img)  # linear scaling to range [0-1]\n",
    "    img = np.expand_dims(img, axis=0)  # add batch dimension [B, C, H, W]\n",
    "    img = img.astype(np.float32)  # typecasting to float32\n",
    "    return img\n",
    "\n",
    "\n",
    "# postprocess function\n",
    "def postprocess(img: torch.tensor):\n",
    "    img = torch.argmax(img, dim=1)  # perform argmax to generate 1 channel\n",
    "    img = img.cpu().numpy()  # send to cpu and transform to numpy.ndarray\n",
    "    img = np.squeeze(img)  # remove batch dim and channel dim -> [H, W]\n",
    "    img = re_normalize(img)  # scale it to the range [0-255]\n",
    "    return img\n"
   ]
  },
  {
   "cell_type": "code",
   "execution_count": 7,
   "metadata": {
    "pycharm": {
     "name": "#%%\n"
    }
   },
   "outputs": [],
   "source": [
    "# predict the segmentation maps \n",
    "output = [predict(img, model, preprocess, postprocess, device) for img in images_res]"
   ]
  },
  {
   "cell_type": "code",
   "execution_count": 9,
   "metadata": {},
   "outputs": [
    {
     "name": "stderr",
     "output_type": "stream",
     "text": [
      "d:\\pokusknn\\venv\\lib\\site-packages\\napari\\layers\\labels\\labels.py:382: UserWarning: Float dtypes are not supported for Labels layers. Converting data to integers...\n",
      "  warnings.warn(\n"
     ]
    }
   ],
   "source": [
    "%gui qt\n",
    "import napari\n",
    "\n",
    "viewer = napari.Viewer()\n",
    "\n",
    "idx = 1\n",
    "img_nap = viewer.add_image(images_res[idx], name='Input')\n",
    "tar_nap = viewer.add_labels(targets_res[idx], name='Target')\n",
    "out_nap = viewer.add_labels(output[idx], name='Prediction')\n"
   ]
  }
 ],
 "metadata": {
  "kernelspec": {
   "display_name": "Python 3",
   "language": "python",
   "name": "python3"
  },
  "language_info": {
   "codemirror_mode": {
    "name": "ipython",
    "version": 3
   },
   "file_extension": ".py",
   "mimetype": "text/x-python",
   "name": "python",
   "nbconvert_exporter": "python",
   "pygments_lexer": "ipython3",
   "version": "3.8.5"
  }
 },
 "nbformat": 4,
 "nbformat_minor": 1
}